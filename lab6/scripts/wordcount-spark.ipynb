{
 "cells": [
  {
   "cell_type": "code",
   "execution_count": 1,
   "metadata": {
    "execution": {
     "iopub.execute_input": "2022-05-29T14:53:56.974377Z",
     "iopub.status.busy": "2022-05-29T14:53:56.974063Z",
     "iopub.status.idle": "2022-05-29T14:54:37.230221Z",
     "shell.execute_reply": "2022-05-29T14:54:37.229207Z",
     "shell.execute_reply.started": "2022-05-29T14:53:56.974322Z"
    }
   },
   "outputs": [
    {
     "data": {
      "application/vnd.jupyter.widget-view+json": {
       "model_id": "39f3cec4f8b84758a24a1e1cc1c7c7f3",
       "version_major": 2,
       "version_minor": 0
      },
      "text/plain": [
       "VBox()"
      ]
     },
     "metadata": {},
     "output_type": "display_data"
    },
    {
     "name": "stdout",
     "output_type": "stream",
     "text": [
      "Starting Spark application\n"
     ]
    },
    {
     "data": {
      "text/html": [
       "<table>\n",
       "<tr><th>ID</th><th>YARN Application ID</th><th>Kind</th><th>State</th><th>Spark UI</th><th>Driver log</th><th>Current session?</th></tr><tr><td>0</td><td>application_1653829904487_0018</td><td>pyspark</td><td>idle</td><td><a target=\"_blank\" href=\"http://ip-172-31-82-40.ec2.internal:20888/proxy/application_1653829904487_0018/\" class=\"emr-proxy-link\" emr-resource=\"j-JBU2PA3CYQPZ\n",
       "\" application-id=\"application_1653829904487_0018\">Link</a></td><td><a target=\"_blank\" href=\"http://ip-172-31-92-71.ec2.internal:8042/node/containerlogs/container_1653829904487_0018_01_000001/livy\" >Link</a></td><td>✔</td></tr></table>"
      ],
      "text/plain": [
       "<IPython.core.display.HTML object>"
      ]
     },
     "metadata": {},
     "output_type": "display_data"
    },
    {
     "data": {
      "application/vnd.jupyter.widget-view+json": {
       "model_id": "",
       "version_major": 2,
       "version_minor": 0
      },
      "text/plain": [
       "FloatProgress(value=0.0, bar_style='info', description='Progress:', layout=Layout(height='25px', width='50%'),…"
      ]
     },
     "metadata": {},
     "output_type": "display_data"
    },
    {
     "name": "stdout",
     "output_type": "stream",
     "text": [
      "SparkSession available as 'spark'.\n"
     ]
    },
    {
     "data": {
      "application/vnd.jupyter.widget-view+json": {
       "model_id": "",
       "version_major": 2,
       "version_minor": 0
      },
      "text/plain": [
       "FloatProgress(value=0.0, bar_style='info', description='Progress:', layout=Layout(height='25px', width='50%'),…"
      ]
     },
     "metadata": {},
     "output_type": "display_data"
    }
   ],
   "source": [
    "from pyspark.sql import SparkSession\n",
    "\n",
    "spark = SparkSession.builder.appName(\"WordCount\").getOrCreate()\n",
    "sc = spark.sparkContext"
   ]
  },
  {
   "cell_type": "code",
   "execution_count": 2,
   "metadata": {
    "execution": {
     "iopub.execute_input": "2022-05-29T14:54:37.232300Z",
     "iopub.status.busy": "2022-05-29T14:54:37.231945Z",
     "iopub.status.idle": "2022-05-29T14:54:52.738220Z",
     "shell.execute_reply": "2022-05-29T14:54:52.736987Z",
     "shell.execute_reply.started": "2022-05-29T14:54:37.232252Z"
    },
    "tags": []
   },
   "outputs": [
    {
     "data": {
      "application/vnd.jupyter.widget-view+json": {
       "model_id": "754de504a09d4289a42b3758d7e1cfea",
       "version_major": 2,
       "version_minor": 0
      },
      "text/plain": [
       "VBox()"
      ]
     },
     "metadata": {},
     "output_type": "display_data"
    },
    {
     "data": {
      "application/vnd.jupyter.widget-view+json": {
       "model_id": "",
       "version_major": 2,
       "version_minor": 0
      },
      "text/plain": [
       "FloatProgress(value=0.0, bar_style='info', description='Progress:', layout=Layout(height='25px', width='50%'),…"
      ]
     },
     "metadata": {},
     "output_type": "display_data"
    },
    {
     "name": "stdout",
     "output_type": "stream",
     "text": [
      "('the', 44647)\n",
      "('of', 28020)\n",
      "('to', 23208)\n",
      "('and', 20444)\n",
      "('in', 13174)\n",
      "('that', 12265)\n",
      "('I', 10880)\n",
      "('a', 10431)\n",
      "('is', 7776)\n",
      "('be', 7148)"
     ]
    }
   ],
   "source": [
    "# WORDCOUNT COMPACTO\n",
    "files_rdd = sc.textFile(\"s3a://aagutierrldatalake/raw/gutenberg-small/*.txt\")\n",
    "#files_rdd = sc.textFile(\"hdfs:///user/hadoop/datasets/gutenberg-small/*.txt\")\n",
    "wc_unsort = files_rdd.flatMap(lambda line: line.split()).map(lambda word: (word, 1)).reduceByKey(lambda a, b: a + b)\n",
    "wc = wc_unsort.sortBy(lambda a: -a[1])\n",
    "for tupla in wc.take(10):\n",
    "        print(tupla)"
   ]
  },
  {
   "cell_type": "code",
   "execution_count": 3,
   "metadata": {
    "execution": {
     "iopub.execute_input": "2022-05-29T14:54:52.746416Z",
     "iopub.status.busy": "2022-05-29T14:54:52.745956Z",
     "iopub.status.idle": "2022-05-29T14:54:52.894301Z",
     "shell.execute_reply": "2022-05-29T14:54:52.892499Z",
     "shell.execute_reply.started": "2022-05-29T14:54:52.746364Z"
    }
   },
   "outputs": [
    {
     "data": {
      "application/vnd.jupyter.widget-view+json": {
       "model_id": "bde600391d524ed59a04b56967a54ca6",
       "version_major": 2,
       "version_minor": 0
      },
      "text/plain": [
       "VBox()"
      ]
     },
     "metadata": {},
     "output_type": "display_data"
    },
    {
     "data": {
      "application/vnd.jupyter.widget-view+json": {
       "model_id": "",
       "version_major": 2,
       "version_minor": 0
      },
      "text/plain": [
       "FloatProgress(value=0.0, bar_style='info', description='Progress:', layout=Layout(height='25px', width='50%'),…"
      ]
     },
     "metadata": {},
     "output_type": "display_data"
    }
   ],
   "source": [
    "# WORDCOUNT PASO A PASO"
   ]
  },
  {
   "cell_type": "code",
   "execution_count": 4,
   "metadata": {
    "execution": {
     "iopub.execute_input": "2022-05-29T14:54:52.896302Z",
     "iopub.status.busy": "2022-05-29T14:54:52.895995Z",
     "iopub.status.idle": "2022-05-29T14:54:53.847444Z",
     "shell.execute_reply": "2022-05-29T14:54:53.846130Z",
     "shell.execute_reply.started": "2022-05-29T14:54:52.896258Z"
    }
   },
   "outputs": [
    {
     "data": {
      "application/vnd.jupyter.widget-view+json": {
       "model_id": "14ea66bcb80e4c63a5a945097ab4d4dd",
       "version_major": 2,
       "version_minor": 0
      },
      "text/plain": [
       "VBox()"
      ]
     },
     "metadata": {},
     "output_type": "display_data"
    },
    {
     "data": {
      "application/vnd.jupyter.widget-view+json": {
       "model_id": "",
       "version_major": 2,
       "version_minor": 0
      },
      "text/plain": [
       "FloatProgress(value=0.0, bar_style='info', description='Progress:', layout=Layout(height='25px', width='50%'),…"
      ]
     },
     "metadata": {},
     "output_type": "display_data"
    },
    {
     "name": "stdout",
     "output_type": "stream",
     "text": [
      "\n",
      "LINCOLN LETTERS\n",
      "\n",
      "By Abraham Lincoln\n",
      "\n",
      "\n",
      "Published by The Bibilophile Society"
     ]
    }
   ],
   "source": [
    "files_rdd = sc.textFile(\"s3a://aagutierrldatalake/raw/gutenberg-small/*.txt\")\n",
    "#files = sc.textFile(\"hdfs:///user/hadoop/datasets/gutenberg-small/*.txt\")\n",
    "for f in files_rdd.take(10):\n",
    "    print(f)"
   ]
  },
  {
   "cell_type": "code",
   "execution_count": 5,
   "metadata": {
    "execution": {
     "iopub.execute_input": "2022-05-29T14:54:53.849370Z",
     "iopub.status.busy": "2022-05-29T14:54:53.849021Z",
     "iopub.status.idle": "2022-05-29T14:54:54.275893Z",
     "shell.execute_reply": "2022-05-29T14:54:54.274610Z",
     "shell.execute_reply.started": "2022-05-29T14:54:53.849322Z"
    }
   },
   "outputs": [
    {
     "data": {
      "application/vnd.jupyter.widget-view+json": {
       "model_id": "8f9797f4f4b74a2f97fb4e9f0ff36daa",
       "version_major": 2,
       "version_minor": 0
      },
      "text/plain": [
       "VBox()"
      ]
     },
     "metadata": {},
     "output_type": "display_data"
    },
    {
     "data": {
      "application/vnd.jupyter.widget-view+json": {
       "model_id": "",
       "version_major": 2,
       "version_minor": 0
      },
      "text/plain": [
       "FloatProgress(value=0.0, bar_style='info', description='Progress:', layout=Layout(height='25px', width='50%'),…"
      ]
     },
     "metadata": {},
     "output_type": "display_data"
    },
    {
     "name": "stdout",
     "output_type": "stream",
     "text": [
      "LINCOLN\n",
      "LETTERS\n",
      "By\n",
      "Abraham\n",
      "Lincoln\n",
      "Published\n",
      "by\n",
      "The\n",
      "Bibilophile\n",
      "Society"
     ]
    }
   ],
   "source": [
    "tokens = files_rdd.flatMap(lambda line: line.split())\n",
    "for t in tokens.take(10):\n",
    "    print(t)"
   ]
  },
  {
   "cell_type": "code",
   "execution_count": 6,
   "metadata": {
    "execution": {
     "iopub.execute_input": "2022-05-29T14:54:54.277601Z",
     "iopub.status.busy": "2022-05-29T14:54:54.277262Z",
     "iopub.status.idle": "2022-05-29T14:54:54.734291Z",
     "shell.execute_reply": "2022-05-29T14:54:54.733120Z",
     "shell.execute_reply.started": "2022-05-29T14:54:54.277552Z"
    }
   },
   "outputs": [
    {
     "data": {
      "application/vnd.jupyter.widget-view+json": {
       "model_id": "2d11aca048944c02bfe3c9171f14b48e",
       "version_major": 2,
       "version_minor": 0
      },
      "text/plain": [
       "VBox()"
      ]
     },
     "metadata": {},
     "output_type": "display_data"
    },
    {
     "data": {
      "application/vnd.jupyter.widget-view+json": {
       "model_id": "",
       "version_major": 2,
       "version_minor": 0
      },
      "text/plain": [
       "FloatProgress(value=0.0, bar_style='info', description='Progress:', layout=Layout(height='25px', width='50%'),…"
      ]
     },
     "metadata": {},
     "output_type": "display_data"
    },
    {
     "name": "stdout",
     "output_type": "stream",
     "text": [
      "('LINCOLN', 1)\n",
      "('LETTERS', 1)\n",
      "('By', 1)\n",
      "('Abraham', 1)\n",
      "('Lincoln', 1)\n",
      "('Published', 1)\n",
      "('by', 1)\n",
      "('The', 1)\n",
      "('Bibilophile', 1)\n",
      "('Society', 1)"
     ]
    }
   ],
   "source": [
    "wc1 = tokens.map(lambda word: (word, 1))\n",
    "for c in wc1.take(10):\n",
    "    print(c)"
   ]
  },
  {
   "cell_type": "code",
   "execution_count": 7,
   "metadata": {
    "execution": {
     "iopub.execute_input": "2022-05-29T14:54:54.737010Z",
     "iopub.status.busy": "2022-05-29T14:54:54.736334Z",
     "iopub.status.idle": "2022-05-29T14:54:57.268374Z",
     "shell.execute_reply": "2022-05-29T14:54:57.267177Z",
     "shell.execute_reply.started": "2022-05-29T14:54:54.736956Z"
    }
   },
   "outputs": [
    {
     "data": {
      "application/vnd.jupyter.widget-view+json": {
       "model_id": "0b30b9970cab43dfa7b5ba84e388bdad",
       "version_major": 2,
       "version_minor": 0
      },
      "text/plain": [
       "VBox()"
      ]
     },
     "metadata": {},
     "output_type": "display_data"
    },
    {
     "data": {
      "application/vnd.jupyter.widget-view+json": {
       "model_id": "",
       "version_major": 2,
       "version_minor": 0
      },
      "text/plain": [
       "FloatProgress(value=0.0, bar_style='info', description='Progress:', layout=Layout(height='25px', width='50%'),…"
      ]
     },
     "metadata": {},
     "output_type": "display_data"
    },
    {
     "name": "stdout",
     "output_type": "stream",
     "text": [
      "('thoroughly', 15)\n",
      "('themselves', 192)\n",
      "('them.', 371)\n",
      "('letter', 312)\n",
      "('A.', 1456)\n",
      "('ORIGINALS', 1)\n",
      "('THEY', 1)\n",
      "('sum', 59)\n",
      "('singular', 18)\n",
      "('let', 414)"
     ]
    }
   ],
   "source": [
    "wc = wc1.reduceByKey(lambda a, b: a + b)\n",
    "for c in wc.take(10):\n",
    "    print(c)"
   ]
  },
  {
   "cell_type": "code",
   "execution_count": 8,
   "metadata": {
    "execution": {
     "iopub.execute_input": "2022-05-29T14:54:57.274692Z",
     "iopub.status.busy": "2022-05-29T14:54:57.271475Z",
     "iopub.status.idle": "2022-05-29T14:54:59.709012Z",
     "shell.execute_reply": "2022-05-29T14:54:59.707731Z",
     "shell.execute_reply.started": "2022-05-29T14:54:57.274629Z"
    }
   },
   "outputs": [
    {
     "data": {
      "application/vnd.jupyter.widget-view+json": {
       "model_id": "3e32870d27204db183e924dabc968059",
       "version_major": 2,
       "version_minor": 0
      },
      "text/plain": [
       "VBox()"
      ]
     },
     "metadata": {},
     "output_type": "display_data"
    },
    {
     "data": {
      "application/vnd.jupyter.widget-view+json": {
       "model_id": "",
       "version_major": 2,
       "version_minor": 0
      },
      "text/plain": [
       "FloatProgress(value=0.0, bar_style='info', description='Progress:', layout=Layout(height='25px', width='50%'),…"
      ]
     },
     "metadata": {},
     "output_type": "display_data"
    },
    {
     "name": "stdout",
     "output_type": "stream",
     "text": [
      "('the', 44647)\n",
      "('of', 28020)\n",
      "('to', 23208)\n",
      "('and', 20444)\n",
      "('in', 13174)\n",
      "('that', 12265)\n",
      "('I', 10880)\n",
      "('a', 10431)\n",
      "('is', 7776)\n",
      "('be', 7148)"
     ]
    }
   ],
   "source": [
    "wcsort = wc.sortBy(lambda a: -a[1])\n",
    "for c in wcsort.take(10):\n",
    "    print(c)"
   ]
  },
  {
   "cell_type": "code",
   "execution_count": 11,
   "metadata": {
    "execution": {
     "iopub.execute_input": "2022-05-29T14:57:09.928713Z",
     "iopub.status.busy": "2022-05-29T14:57:09.928435Z",
     "iopub.status.idle": "2022-05-29T14:57:23.642065Z",
     "shell.execute_reply": "2022-05-29T14:57:23.640757Z",
     "shell.execute_reply.started": "2022-05-29T14:57:09.928682Z"
    },
    "tags": []
   },
   "outputs": [
    {
     "data": {
      "application/vnd.jupyter.widget-view+json": {
       "model_id": "f5daaf2948204e6eb1dde793e811ac24",
       "version_major": 2,
       "version_minor": 0
      },
      "text/plain": [
       "VBox()"
      ]
     },
     "metadata": {},
     "output_type": "display_data"
    },
    {
     "data": {
      "application/vnd.jupyter.widget-view+json": {
       "model_id": "",
       "version_major": 2,
       "version_minor": 0
      },
      "text/plain": [
       "FloatProgress(value=0.0, bar_style='info', description='Progress:', layout=Layout(height='25px', width='50%'),…"
      ]
     },
     "metadata": {},
     "output_type": "display_data"
    }
   ],
   "source": [
    "#salvar los datos de salida, fijarse que no exista: hdfs:///tmp/<your-username>wcout10\n",
    "wc.coalesce(1).saveAsTextFile(\"hdfs:///tmp/wcoutj\")\n",
    "#si esta trabajando en aws (igual verifique que no exista previamente wcout10):\n",
    "wc.coalesce(1).saveAsTextFile(\"s3://aagutierrldatalake/wcout\")"
   ]
  },
  {
   "cell_type": "code",
   "execution_count": null,
   "metadata": {},
   "outputs": [],
   "source": []
  }
 ],
 "metadata": {
  "kernelspec": {
   "display_name": "PySpark",
   "language": "",
   "name": "pysparkkernel"
  },
  "language_info": {
   "codemirror_mode": {
    "name": "python",
    "version": 3
   },
   "mimetype": "text/x-python",
   "name": "pyspark",
   "pygments_lexer": "python3"
  }
 },
 "nbformat": 4,
 "nbformat_minor": 4
}
